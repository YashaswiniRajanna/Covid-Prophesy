{
 "cells": [
  {
   "cell_type": "code",
   "execution_count": 72,
   "id": "909c3191",
   "metadata": {},
   "outputs": [],
   "source": [
    "#basic libraries\n",
    "import numpy as np\n",
    "import pandas as pd"
   ]
  },
  {
   "cell_type": "code",
   "execution_count": 93,
   "id": "cde341e9",
   "metadata": {},
   "outputs": [],
   "source": [
    "#complex libraries\n",
    "\n",
    "import numpy as np\n",
    "import pandas as pd\n",
    "import matplotlib.pyplot as plt\n",
    "import seaborn as sns\n",
    "import pickle\n",
    "\n",
    "from sklearn.model_selection import train_test_split, GridSearchCV\n",
    "from sklearn.preprocessing import StandardScaler\n",
    "from sklearn.metrics import accuracy_score,confusion_matrix\n",
    "\n",
    "\n",
    "from sklearn.svm import SVC\n",
    "from sklearn.tree import DecisionTreeClassifier\n",
    "from sklearn.linear_model import LogisticRegression\n",
    "from sklearn.neighbors import KNeighborsClassifier\n",
    "from sklearn.ensemble import RandomForestClassifier\n",
    "\n",
    "from sklearn.metrics import roc_curve, auc, confusion_matrix, classification_report,accuracy_score\n",
    "from sklearn.metrics import roc_curve, roc_auc_score"
   ]
  },
  {
   "cell_type": "code",
   "execution_count": 94,
   "id": "805ba343",
   "metadata": {},
   "outputs": [],
   "source": [
    "#importing dataset\n",
    "codata=pd.read_csv('codata.csv')"
   ]
  },
  {
   "cell_type": "code",
   "execution_count": 95,
   "id": "f2e69795",
   "metadata": {},
   "outputs": [
    {
     "name": "stdout",
     "output_type": "stream",
     "text": [
      "Counter({True: 925290, False: 123285})\n"
     ]
    }
   ],
   "source": [
    "#checking distribution of \"negatives\" in target\n",
    "from collections import Counter\n",
    "print(Counter(codata.target=='negative'))"
   ]
  },
  {
   "cell_type": "code",
   "execution_count": 96,
   "id": "be5baa57",
   "metadata": {},
   "outputs": [
    {
     "data": {
      "text/plain": [
       "array(['negative', 'other', 'positive'], dtype=object)"
      ]
     },
     "execution_count": 96,
     "metadata": {},
     "output_type": "execute_result"
    }
   ],
   "source": [
    "codata['target'].unique()"
   ]
  },
  {
   "cell_type": "code",
   "execution_count": 97,
   "id": "7369634d",
   "metadata": {},
   "outputs": [],
   "source": [
    "codata['target']=codata['target'].replace(to_replace={'positive':1.0,'positive\\t':1.0,'negative':0.0,'negative':0.0,'other':np.nan})\n",
    "codata.rename(columns={'target':'target'},inplace=True)"
   ]
  },
  {
   "cell_type": "code",
   "execution_count": 98,
   "id": "e63e338c",
   "metadata": {},
   "outputs": [
    {
     "data": {
      "text/plain": [
       "array([ 0., nan,  1.])"
      ]
     },
     "execution_count": 98,
     "metadata": {},
     "output_type": "execute_result"
    }
   ],
   "source": [
    "codata['target'].unique()"
   ]
  },
  {
   "cell_type": "code",
   "execution_count": 99,
   "id": "ba544b97",
   "metadata": {},
   "outputs": [],
   "source": [
    "#duplicating original data\n",
    "df=codata"
   ]
  },
  {
   "cell_type": "code",
   "execution_count": 100,
   "id": "701f07ab",
   "metadata": {},
   "outputs": [
    {
     "data": {
      "image/png": "[encoded data removed]",
      "text/plain": [
       "<Figure size 432x288 with 1 Axes>"
      ]
     },
     "metadata": {},
     "output_type": "display_data"
    }
   ],
   "source": [
    "sns.countplot(x='target',data=df)\n",
    "plt.xlabel(\" target class distribution/classification\")\n",
    "plt.ylabel(\"Count\")\n",
    "plt.title(\"target Class\")\n",
    "plt.show()"
   ]
  },
  {
   "cell_type": "code",
   "execution_count": null,
   "id": "c5d3f0e1",
   "metadata": {},
   "outputs": [],
   "source": [
    "#slimming the data"
   ]
  },
  {
   "cell_type": "code",
   "execution_count": 101,
   "id": "f2e6dda2",
   "metadata": {},
   "outputs": [
    {
     "data": {
      "text/html": [
       "<div>\n",
       "<style scoped>\n",
       "    .dataframe tbody tr th:only-of-type {\n",
       "        vertical-align: middle;\n",
       "    }\n",
       "\n",
       "    .dataframe tbody tr th {\n",
       "        vertical-align: top;\n",
       "    }\n",
       "\n",
       "    .dataframe thead th {\n",
       "        text-align: right;\n",
       "    }\n",
       "</style>\n",
       "<table border=\"1\" class=\"dataframe\">\n",
       "  <thead>\n",
       "    <tr style=\"text-align: right;\">\n",
       "      <th></th>\n",
       "      <th>id</th>\n",
       "      <th>cough</th>\n",
       "      <th>fever</th>\n",
       "      <th>sore_throat</th>\n",
       "      <th>shortness_of_breath</th>\n",
       "      <th>head_ache</th>\n",
       "      <th>age_above_60</th>\n",
       "      <th>gender</th>\n",
       "      <th>test_indication</th>\n",
       "      <th>target</th>\n",
       "    </tr>\n",
       "  </thead>\n",
       "  <tbody>\n",
       "    <tr>\n",
       "      <th>0</th>\n",
       "      <td>1</td>\n",
       "      <td>0</td>\n",
       "      <td>0</td>\n",
       "      <td>0</td>\n",
       "      <td>0</td>\n",
       "      <td>0</td>\n",
       "      <td>No</td>\n",
       "      <td>male</td>\n",
       "      <td>Other</td>\n",
       "      <td>0.0</td>\n",
       "    </tr>\n",
       "    <tr>\n",
       "      <th>1</th>\n",
       "      <td>2</td>\n",
       "      <td>0</td>\n",
       "      <td>1</td>\n",
       "      <td>0</td>\n",
       "      <td>0</td>\n",
       "      <td>0</td>\n",
       "      <td>No</td>\n",
       "      <td>male</td>\n",
       "      <td>Other</td>\n",
       "      <td>0.0</td>\n",
       "    </tr>\n",
       "    <tr>\n",
       "      <th>2</th>\n",
       "      <td>3</td>\n",
       "      <td>0</td>\n",
       "      <td>0</td>\n",
       "      <td>0</td>\n",
       "      <td>0</td>\n",
       "      <td>0</td>\n",
       "      <td>Yes</td>\n",
       "      <td>female</td>\n",
       "      <td>Other</td>\n",
       "      <td>0.0</td>\n",
       "    </tr>\n",
       "    <tr>\n",
       "      <th>3</th>\n",
       "      <td>4</td>\n",
       "      <td>0</td>\n",
       "      <td>0</td>\n",
       "      <td>0</td>\n",
       "      <td>0</td>\n",
       "      <td>0</td>\n",
       "      <td>No</td>\n",
       "      <td>male</td>\n",
       "      <td>Other</td>\n",
       "      <td>0.0</td>\n",
       "    </tr>\n",
       "    <tr>\n",
       "      <th>4</th>\n",
       "      <td>5</td>\n",
       "      <td>0</td>\n",
       "      <td>1</td>\n",
       "      <td>0</td>\n",
       "      <td>0</td>\n",
       "      <td>0</td>\n",
       "      <td>No</td>\n",
       "      <td>male</td>\n",
       "      <td>Contact with confirmed</td>\n",
       "      <td>0.0</td>\n",
       "    </tr>\n",
       "  </tbody>\n",
       "</table>\n",
       "</div>"
      ],
      "text/plain": [
       "   id  cough  fever  sore_throat  shortness_of_breath  head_ache age_above_60  \\\n",
       "0   1      0      0            0                    0          0           No   \n",
       "1   2      0      1            0                    0          0           No   \n",
       "2   3      0      0            0                    0          0          Yes   \n",
       "3   4      0      0            0                    0          0           No   \n",
       "4   5      0      1            0                    0          0           No   \n",
       "\n",
       "   gender         test_indication  target  \n",
       "0    male                   Other     0.0  \n",
       "1    male                   Other     0.0  \n",
       "2  female                   Other     0.0  \n",
       "3    male                   Other     0.0  \n",
       "4    male  Contact with confirmed     0.0  "
      ]
     },
     "execution_count": 101,
     "metadata": {},
     "output_type": "execute_result"
    }
   ],
   "source": [
    "codata.head()"
   ]
  },
  {
   "cell_type": "code",
   "execution_count": 102,
   "id": "6e51a5aa",
   "metadata": {},
   "outputs": [
    {
     "data": {
      "text/plain": [
       "(1048575, 10)"
      ]
     },
     "execution_count": 102,
     "metadata": {},
     "output_type": "execute_result"
    }
   ],
   "source": [
    "codata.shape"
   ]
  },
  {
   "cell_type": "code",
   "execution_count": 103,
   "id": "1bb21839",
   "metadata": {},
   "outputs": [
    {
     "data": {
      "text/plain": [
       "id                       int64\n",
       "cough                    int64\n",
       "fever                    int64\n",
       "sore_throat              int64\n",
       "shortness_of_breath      int64\n",
       "head_ache                int64\n",
       "age_above_60            object\n",
       "gender                  object\n",
       "test_indication         object\n",
       "target                 float64\n",
       "dtype: object"
      ]
     },
     "execution_count": 103,
     "metadata": {},
     "output_type": "execute_result"
    }
   ],
   "source": [
    "codata.dtypes\n",
    "#codata.info()"
   ]
  },
  {
   "cell_type": "code",
   "execution_count": null,
   "id": "0fa1cea7",
   "metadata": {},
   "outputs": [],
   "source": [
    "#encoding categorical variable to numerical "
   ]
  },
  {
   "cell_type": "code",
   "execution_count": 104,
   "id": "349025c1",
   "metadata": {},
   "outputs": [],
   "source": [
    "codata[['cough','sore_throat','shortness_of_breath','head_ache','age_above_60']]=codata[['cough','sore_throat','shortness_of_breath','head_ache','age_above_60']].replace(to_replace={'Yes':1,'No':0})\n",
    "codata[['gender']] = codata[['gender']].replace(to_replace={'male':1,'female':0,'other':np.nan})\n",
    "codata[['test_indication']] = codata[['test_indication']].replace(to_replace={'Contact with confirmed':1,'Other':np.nan,'Abroad':1})\n",
    "iddata=codata.drop('id',axis=1,inplace=True)"
   ]
  },
  {
   "cell_type": "code",
   "execution_count": 105,
   "id": "c8c7d01a",
   "metadata": {},
   "outputs": [
    {
     "data": {
      "text/plain": [
       "cough                    int64\n",
       "fever                    int64\n",
       "sore_throat              int64\n",
       "shortness_of_breath      int64\n",
       "head_ache                int64\n",
       "age_above_60           float64\n",
       "gender                 float64\n",
       "test_indication        float64\n",
       "target                 float64\n",
       "dtype: object"
      ]
     },
     "execution_count": 105,
     "metadata": {},
     "output_type": "execute_result"
    }
   ],
   "source": [
    "codata.dtypes"
   ]
  },
  {
   "cell_type": "code",
   "execution_count": 106,
   "id": "90f87782",
   "metadata": {},
   "outputs": [
    {
     "data": {
      "text/html": [
       "<div>\n",
       "<style scoped>\n",
       "    .dataframe tbody tr th:only-of-type {\n",
       "        vertical-align: middle;\n",
       "    }\n",
       "\n",
       "    .dataframe tbody tr th {\n",
       "        vertical-align: top;\n",
       "    }\n",
       "\n",
       "    .dataframe thead th {\n",
       "        text-align: right;\n",
       "    }\n",
       "</style>\n",
       "<table border=\"1\" class=\"dataframe\">\n",
       "  <thead>\n",
       "    <tr style=\"text-align: right;\">\n",
       "      <th></th>\n",
       "      <th>cough</th>\n",
       "      <th>fever</th>\n",
       "      <th>sore_throat</th>\n",
       "      <th>shortness_of_breath</th>\n",
       "      <th>head_ache</th>\n",
       "      <th>age_above_60</th>\n",
       "      <th>gender</th>\n",
       "      <th>test_indication</th>\n",
       "      <th>target</th>\n",
       "    </tr>\n",
       "  </thead>\n",
       "  <tbody>\n",
       "    <tr>\n",
       "      <th>0</th>\n",
       "      <td>0</td>\n",
       "      <td>0</td>\n",
       "      <td>0</td>\n",
       "      <td>0</td>\n",
       "      <td>0</td>\n",
       "      <td>0.0</td>\n",
       "      <td>1.0</td>\n",
       "      <td>NaN</td>\n",
       "      <td>0.0</td>\n",
       "    </tr>\n",
       "    <tr>\n",
       "      <th>1</th>\n",
       "      <td>0</td>\n",
       "      <td>1</td>\n",
       "      <td>0</td>\n",
       "      <td>0</td>\n",
       "      <td>0</td>\n",
       "      <td>0.0</td>\n",
       "      <td>1.0</td>\n",
       "      <td>NaN</td>\n",
       "      <td>0.0</td>\n",
       "    </tr>\n",
       "    <tr>\n",
       "      <th>2</th>\n",
       "      <td>0</td>\n",
       "      <td>0</td>\n",
       "      <td>0</td>\n",
       "      <td>0</td>\n",
       "      <td>0</td>\n",
       "      <td>1.0</td>\n",
       "      <td>0.0</td>\n",
       "      <td>NaN</td>\n",
       "      <td>0.0</td>\n",
       "    </tr>\n",
       "    <tr>\n",
       "      <th>3</th>\n",
       "      <td>0</td>\n",
       "      <td>0</td>\n",
       "      <td>0</td>\n",
       "      <td>0</td>\n",
       "      <td>0</td>\n",
       "      <td>0.0</td>\n",
       "      <td>1.0</td>\n",
       "      <td>NaN</td>\n",
       "      <td>0.0</td>\n",
       "    </tr>\n",
       "    <tr>\n",
       "      <th>4</th>\n",
       "      <td>0</td>\n",
       "      <td>1</td>\n",
       "      <td>0</td>\n",
       "      <td>0</td>\n",
       "      <td>0</td>\n",
       "      <td>0.0</td>\n",
       "      <td>1.0</td>\n",
       "      <td>1.0</td>\n",
       "      <td>0.0</td>\n",
       "    </tr>\n",
       "  </tbody>\n",
       "</table>\n",
       "</div>"
      ],
      "text/plain": [
       "   cough  fever  sore_throat  shortness_of_breath  head_ache  age_above_60  \\\n",
       "0      0      0            0                    0          0           0.0   \n",
       "1      0      1            0                    0          0           0.0   \n",
       "2      0      0            0                    0          0           1.0   \n",
       "3      0      0            0                    0          0           0.0   \n",
       "4      0      1            0                    0          0           0.0   \n",
       "\n",
       "   gender  test_indication  target  \n",
       "0     1.0              NaN     0.0  \n",
       "1     1.0              NaN     0.0  \n",
       "2     0.0              NaN     0.0  \n",
       "3     1.0              NaN     0.0  \n",
       "4     1.0              1.0     0.0  "
      ]
     },
     "execution_count": 106,
     "metadata": {},
     "output_type": "execute_result"
    }
   ],
   "source": [
    "codata.head()"
   ]
  },
  {
   "cell_type": "code",
   "execution_count": 107,
   "id": "8ac37d3b",
   "metadata": {},
   "outputs": [
    {
     "data": {
      "text/plain": [
       "cough                       0\n",
       "fever                       0\n",
       "sore_throat                 0\n",
       "shortness_of_breath         0\n",
       "head_ache                   0\n",
       "age_above_60            51865\n",
       "gender                   2880\n",
       "test_indication        979690\n",
       "target                  17851\n",
       "dtype: int64"
      ]
     },
     "execution_count": 107,
     "metadata": {},
     "output_type": "execute_result"
    }
   ],
   "source": [
    "codata.isnull().sum()"
   ]
  },
  {
   "cell_type": "code",
   "execution_count": 108,
   "id": "8adda11b",
   "metadata": {},
   "outputs": [
    {
     "data": {
      "text/plain": [
       "array([ 0.,  1., nan])"
      ]
     },
     "execution_count": 108,
     "metadata": {},
     "output_type": "execute_result"
    }
   ],
   "source": [
    "codata['age_above_60'].unique()"
   ]
  },
  {
   "cell_type": "code",
   "execution_count": 109,
   "id": "5bb6a6f7",
   "metadata": {},
   "outputs": [
    {
     "name": "stderr",
     "output_type": "stream",
     "text": [
      "C:\\Users\\guess\\anaconda3\\lib\\site-packages\\seaborn\\distributions.py:2557: FutureWarning: `distplot` is a deprecated function and will be removed in a future version. Please adapt your code to use either `displot` (a figure-level function with similar flexibility) or `histplot` (an axes-level function for histograms).\n",
      "  warnings.warn(msg, FutureWarning)\n"
     ]
    },
    {
     "data": {
      "text/plain": [
       "<AxesSubplot:xlabel='age_above_60', ylabel='Density'>"
      ]
     },
     "execution_count": 109,
     "metadata": {},
     "output_type": "execute_result"
    },
    {
     "data": {
      "image/png": "[encoded data removed]",
      "text/plain": [
       "<Figure size 576x576 with 1 Axes>"
      ]
     },
     "metadata": {},
     "output_type": "display_data"
    }
   ],
   "source": [
    "fig,ax=plt.subplots(figsize=(8,8))\n",
    "sns.distplot(codata.age_above_60)"
   ]
  },
  {
   "cell_type": "code",
   "execution_count": 110,
   "id": "dc1ecade",
   "metadata": {},
   "outputs": [],
   "source": [
    "#replacing nan values by its corresponding median \n",
    "codata=codata.fillna(codata.median())"
   ]
  },
  {
   "cell_type": "code",
   "execution_count": 111,
   "id": "862f95a9",
   "metadata": {},
   "outputs": [
    {
     "data": {
      "text/plain": [
       "cough                  0\n",
       "fever                  0\n",
       "sore_throat            0\n",
       "shortness_of_breath    0\n",
       "head_ache              0\n",
       "age_above_60           0\n",
       "gender                 0\n",
       "test_indication        0\n",
       "target                 0\n",
       "dtype: int64"
      ]
     },
     "execution_count": 111,
     "metadata": {},
     "output_type": "execute_result"
    }
   ],
   "source": [
    "codata.isnull().sum()"
   ]
  },
  {
   "cell_type": "code",
   "execution_count": 112,
   "id": "a3fe3667",
   "metadata": {},
   "outputs": [
    {
     "data": {
      "image/png": "[encoded data removed]",
      "text/plain": [
       "<Figure size 1080x576 with 2 Axes>"
      ]
     },
     "metadata": {},
     "output_type": "display_data"
    }
   ],
   "source": [
    "corr = df.corr()\n",
    "plt.figure(figsize=(15,8))\n",
    "sns.set(font_scale=1.5)\n",
    "sns.heatmap(corr, annot=True,annot_kws={\"size\": 10},cmap=\"YlOrBr\")\n",
    "plt.show()"
   ]
  },
  {
   "cell_type": "code",
   "execution_count": 24,
   "id": "494ec241",
   "metadata": {},
   "outputs": [
    {
     "ename": "NameError",
     "evalue": "name 'coviddata' is not defined",
     "output_type": "error",
     "traceback": [
      "\u001b[1;31m---------------------------------------------------------------------------\u001b[0m",
      "\u001b[1;31mNameError\u001b[0m                                 Traceback (most recent call last)",
      "\u001b[1;32m<ipython-input-24-2879f2cc1704>\u001b[0m in \u001b[0;36m<module>\u001b[1;34m\u001b[0m\n\u001b[1;32m----> 1\u001b[1;33m \u001b[0mcoviddata\u001b[0m\u001b[1;33m[\u001b[0m\u001b[1;34m'target'\u001b[0m\u001b[1;33m]\u001b[0m\u001b[1;33m.\u001b[0m\u001b[0mvalue_counts\u001b[0m\u001b[1;33m(\u001b[0m\u001b[1;33m)\u001b[0m\u001b[1;33m\u001b[0m\u001b[1;33m\u001b[0m\u001b[0m\n\u001b[0m",
      "\u001b[1;31mNameError\u001b[0m: name 'coviddata' is not defined"
     ]
    }
   ],
   "source": [
    "coviddata['target'].value_counts()"
   ]
  },
  {
   "cell_type": "code",
   "execution_count": 113,
   "id": "517b8dae",
   "metadata": {},
   "outputs": [
    {
     "data": {
      "text/plain": [
       "0.0    943141\n",
       "1.0    105434\n",
       "Name: target, dtype: int64"
      ]
     },
     "execution_count": 113,
     "metadata": {},
     "output_type": "execute_result"
    }
   ],
   "source": [
    "codata['target'].value_counts()"
   ]
  },
  {
   "cell_type": "code",
   "execution_count": 115,
   "id": "5f39284b",
   "metadata": {},
   "outputs": [
    {
     "data": {
      "text/plain": [
       "cough                  0\n",
       "fever                  0\n",
       "sore_throat            0\n",
       "shortness_of_breath    0\n",
       "head_ache              0\n",
       "age_above_60           0\n",
       "gender                 0\n",
       "test_indication        0\n",
       "target                 0\n",
       "dtype: int64"
      ]
     },
     "execution_count": 115,
     "metadata": {},
     "output_type": "execute_result"
    }
   ],
   "source": [
    "codata.isnull().sum()"
   ]
  },
  {
   "cell_type": "code",
   "execution_count": null,
   "id": "83f69ea5",
   "metadata": {},
   "outputs": [],
   "source": [
    "#splitting data into train and test"
   ]
  },
  {
   "cell_type": "code",
   "execution_count": 116,
   "id": "f69b564b",
   "metadata": {},
   "outputs": [],
   "source": [
    "x = codata.iloc[:,:-1]\n",
    "y = codata.iloc[:,-1]"
   ]
  },
  {
   "cell_type": "code",
   "execution_count": 44,
   "id": "07ee0dff",
   "metadata": {},
   "outputs": [
    {
     "data": {
      "text/html": [
       "<div>\n",
       "<style scoped>\n",
       "    .dataframe tbody tr th:only-of-type {\n",
       "        vertical-align: middle;\n",
       "    }\n",
       "\n",
       "    .dataframe tbody tr th {\n",
       "        vertical-align: top;\n",
       "    }\n",
       "\n",
       "    .dataframe thead th {\n",
       "        text-align: right;\n",
       "    }\n",
       "</style>\n",
       "<table border=\"1\" class=\"dataframe\">\n",
       "  <thead>\n",
       "    <tr style=\"text-align: right;\">\n",
       "      <th></th>\n",
       "      <th>cough</th>\n",
       "      <th>fever</th>\n",
       "      <th>sore_throat</th>\n",
       "      <th>shortness_of_breath</th>\n",
       "      <th>head_ache</th>\n",
       "      <th>age_above_60</th>\n",
       "      <th>gender</th>\n",
       "      <th>test_indication</th>\n",
       "    </tr>\n",
       "  </thead>\n",
       "  <tbody>\n",
       "    <tr>\n",
       "      <th>0</th>\n",
       "      <td>0</td>\n",
       "      <td>0</td>\n",
       "      <td>0</td>\n",
       "      <td>0</td>\n",
       "      <td>0</td>\n",
       "      <td>0.0</td>\n",
       "      <td>1.0</td>\n",
       "      <td>1.0</td>\n",
       "    </tr>\n",
       "    <tr>\n",
       "      <th>1</th>\n",
       "      <td>0</td>\n",
       "      <td>1</td>\n",
       "      <td>0</td>\n",
       "      <td>0</td>\n",
       "      <td>0</td>\n",
       "      <td>0.0</td>\n",
       "      <td>1.0</td>\n",
       "      <td>1.0</td>\n",
       "    </tr>\n",
       "    <tr>\n",
       "      <th>2</th>\n",
       "      <td>0</td>\n",
       "      <td>0</td>\n",
       "      <td>0</td>\n",
       "      <td>0</td>\n",
       "      <td>0</td>\n",
       "      <td>1.0</td>\n",
       "      <td>0.0</td>\n",
       "      <td>1.0</td>\n",
       "    </tr>\n",
       "    <tr>\n",
       "      <th>3</th>\n",
       "      <td>0</td>\n",
       "      <td>0</td>\n",
       "      <td>0</td>\n",
       "      <td>0</td>\n",
       "      <td>0</td>\n",
       "      <td>0.0</td>\n",
       "      <td>1.0</td>\n",
       "      <td>1.0</td>\n",
       "    </tr>\n",
       "    <tr>\n",
       "      <th>4</th>\n",
       "      <td>0</td>\n",
       "      <td>1</td>\n",
       "      <td>0</td>\n",
       "      <td>0</td>\n",
       "      <td>0</td>\n",
       "      <td>0.0</td>\n",
       "      <td>1.0</td>\n",
       "      <td>1.0</td>\n",
       "    </tr>\n",
       "    <tr>\n",
       "      <th>...</th>\n",
       "      <td>...</td>\n",
       "      <td>...</td>\n",
       "      <td>...</td>\n",
       "      <td>...</td>\n",
       "      <td>...</td>\n",
       "      <td>...</td>\n",
       "      <td>...</td>\n",
       "      <td>...</td>\n",
       "    </tr>\n",
       "    <tr>\n",
       "      <th>1048570</th>\n",
       "      <td>1</td>\n",
       "      <td>1</td>\n",
       "      <td>0</td>\n",
       "      <td>0</td>\n",
       "      <td>1</td>\n",
       "      <td>1.0</td>\n",
       "      <td>0.0</td>\n",
       "      <td>1.0</td>\n",
       "    </tr>\n",
       "    <tr>\n",
       "      <th>1048571</th>\n",
       "      <td>0</td>\n",
       "      <td>0</td>\n",
       "      <td>0</td>\n",
       "      <td>0</td>\n",
       "      <td>0</td>\n",
       "      <td>1.0</td>\n",
       "      <td>1.0</td>\n",
       "      <td>1.0</td>\n",
       "    </tr>\n",
       "    <tr>\n",
       "      <th>1048572</th>\n",
       "      <td>0</td>\n",
       "      <td>0</td>\n",
       "      <td>0</td>\n",
       "      <td>0</td>\n",
       "      <td>1</td>\n",
       "      <td>0.0</td>\n",
       "      <td>1.0</td>\n",
       "      <td>1.0</td>\n",
       "    </tr>\n",
       "    <tr>\n",
       "      <th>1048573</th>\n",
       "      <td>0</td>\n",
       "      <td>0</td>\n",
       "      <td>0</td>\n",
       "      <td>0</td>\n",
       "      <td>1</td>\n",
       "      <td>0.0</td>\n",
       "      <td>1.0</td>\n",
       "      <td>1.0</td>\n",
       "    </tr>\n",
       "    <tr>\n",
       "      <th>1048574</th>\n",
       "      <td>0</td>\n",
       "      <td>0</td>\n",
       "      <td>0</td>\n",
       "      <td>0</td>\n",
       "      <td>0</td>\n",
       "      <td>0.0</td>\n",
       "      <td>0.0</td>\n",
       "      <td>1.0</td>\n",
       "    </tr>\n",
       "  </tbody>\n",
       "</table>\n",
       "<p>1048575 rows × 8 columns</p>\n",
       "</div>"
      ],
      "text/plain": [
       "         cough  fever  sore_throat  shortness_of_breath  head_ache  \\\n",
       "0            0      0            0                    0          0   \n",
       "1            0      1            0                    0          0   \n",
       "2            0      0            0                    0          0   \n",
       "3            0      0            0                    0          0   \n",
       "4            0      1            0                    0          0   \n",
       "...        ...    ...          ...                  ...        ...   \n",
       "1048570      1      1            0                    0          1   \n",
       "1048571      0      0            0                    0          0   \n",
       "1048572      0      0            0                    0          1   \n",
       "1048573      0      0            0                    0          1   \n",
       "1048574      0      0            0                    0          0   \n",
       "\n",
       "         age_above_60  gender  test_indication  \n",
       "0                 0.0     1.0              1.0  \n",
       "1                 0.0     1.0              1.0  \n",
       "2                 1.0     0.0              1.0  \n",
       "3                 0.0     1.0              1.0  \n",
       "4                 0.0     1.0              1.0  \n",
       "...               ...     ...              ...  \n",
       "1048570           1.0     0.0              1.0  \n",
       "1048571           1.0     1.0              1.0  \n",
       "1048572           0.0     1.0              1.0  \n",
       "1048573           0.0     1.0              1.0  \n",
       "1048574           0.0     0.0              1.0  \n",
       "\n",
       "[1048575 rows x 8 columns]"
      ]
     },
     "execution_count": 44,
     "metadata": {},
     "output_type": "execute_result"
    }
   ],
   "source": [
    "x"
   ]
  },
  {
   "cell_type": "code",
   "execution_count": 117,
   "id": "ef58a696",
   "metadata": {},
   "outputs": [
    {
     "data": {
      "text/plain": [
       "0          0.0\n",
       "1          0.0\n",
       "2          0.0\n",
       "3          0.0\n",
       "4          0.0\n",
       "          ... \n",
       "1048570    1.0\n",
       "1048571    1.0\n",
       "1048572    1.0\n",
       "1048573    1.0\n",
       "1048574    1.0\n",
       "Name: target, Length: 1048575, dtype: float64"
      ]
     },
     "execution_count": 117,
     "metadata": {},
     "output_type": "execute_result"
    }
   ],
   "source": [
    "y"
   ]
  },
  {
   "cell_type": "code",
   "execution_count": 118,
   "id": "9e850b85",
   "metadata": {},
   "outputs": [
    {
     "data": {
      "text/plain": [
       "cough                  0\n",
       "fever                  0\n",
       "sore_throat            0\n",
       "shortness_of_breath    0\n",
       "head_ache              0\n",
       "age_above_60           0\n",
       "gender                 0\n",
       "test_indication        0\n",
       "target                 0\n",
       "dtype: int64"
      ]
     },
     "execution_count": 118,
     "metadata": {},
     "output_type": "execute_result"
    }
   ],
   "source": [
    "codata.isnull().sum()"
   ]
  },
  {
   "cell_type": "code",
   "execution_count": 119,
   "id": "87fdb0d5",
   "metadata": {},
   "outputs": [],
   "source": [
    "codata = codata.dropna(axis=1)"
   ]
  },
  {
   "cell_type": "code",
   "execution_count": 120,
   "id": "fdd1b4a4",
   "metadata": {},
   "outputs": [
    {
     "data": {
      "text/html": [
       "<div>\n",
       "<style scoped>\n",
       "    .dataframe tbody tr th:only-of-type {\n",
       "        vertical-align: middle;\n",
       "    }\n",
       "\n",
       "    .dataframe tbody tr th {\n",
       "        vertical-align: top;\n",
       "    }\n",
       "\n",
       "    .dataframe thead th {\n",
       "        text-align: right;\n",
       "    }\n",
       "</style>\n",
       "<table border=\"1\" class=\"dataframe\">\n",
       "  <thead>\n",
       "    <tr style=\"text-align: right;\">\n",
       "      <th></th>\n",
       "      <th>cough</th>\n",
       "      <th>fever</th>\n",
       "      <th>sore_throat</th>\n",
       "      <th>shortness_of_breath</th>\n",
       "      <th>head_ache</th>\n",
       "      <th>age_above_60</th>\n",
       "      <th>gender</th>\n",
       "      <th>test_indication</th>\n",
       "      <th>target</th>\n",
       "    </tr>\n",
       "  </thead>\n",
       "  <tbody>\n",
       "    <tr>\n",
       "      <th>0</th>\n",
       "      <td>0</td>\n",
       "      <td>0</td>\n",
       "      <td>0</td>\n",
       "      <td>0</td>\n",
       "      <td>0</td>\n",
       "      <td>0.0</td>\n",
       "      <td>1.0</td>\n",
       "      <td>1.0</td>\n",
       "      <td>0.0</td>\n",
       "    </tr>\n",
       "    <tr>\n",
       "      <th>1</th>\n",
       "      <td>0</td>\n",
       "      <td>1</td>\n",
       "      <td>0</td>\n",
       "      <td>0</td>\n",
       "      <td>0</td>\n",
       "      <td>0.0</td>\n",
       "      <td>1.0</td>\n",
       "      <td>1.0</td>\n",
       "      <td>0.0</td>\n",
       "    </tr>\n",
       "    <tr>\n",
       "      <th>2</th>\n",
       "      <td>0</td>\n",
       "      <td>0</td>\n",
       "      <td>0</td>\n",
       "      <td>0</td>\n",
       "      <td>0</td>\n",
       "      <td>1.0</td>\n",
       "      <td>0.0</td>\n",
       "      <td>1.0</td>\n",
       "      <td>0.0</td>\n",
       "    </tr>\n",
       "    <tr>\n",
       "      <th>3</th>\n",
       "      <td>0</td>\n",
       "      <td>0</td>\n",
       "      <td>0</td>\n",
       "      <td>0</td>\n",
       "      <td>0</td>\n",
       "      <td>0.0</td>\n",
       "      <td>1.0</td>\n",
       "      <td>1.0</td>\n",
       "      <td>0.0</td>\n",
       "    </tr>\n",
       "    <tr>\n",
       "      <th>4</th>\n",
       "      <td>0</td>\n",
       "      <td>1</td>\n",
       "      <td>0</td>\n",
       "      <td>0</td>\n",
       "      <td>0</td>\n",
       "      <td>0.0</td>\n",
       "      <td>1.0</td>\n",
       "      <td>1.0</td>\n",
       "      <td>0.0</td>\n",
       "    </tr>\n",
       "    <tr>\n",
       "      <th>...</th>\n",
       "      <td>...</td>\n",
       "      <td>...</td>\n",
       "      <td>...</td>\n",
       "      <td>...</td>\n",
       "      <td>...</td>\n",
       "      <td>...</td>\n",
       "      <td>...</td>\n",
       "      <td>...</td>\n",
       "      <td>...</td>\n",
       "    </tr>\n",
       "    <tr>\n",
       "      <th>1048570</th>\n",
       "      <td>1</td>\n",
       "      <td>1</td>\n",
       "      <td>0</td>\n",
       "      <td>0</td>\n",
       "      <td>1</td>\n",
       "      <td>1.0</td>\n",
       "      <td>0.0</td>\n",
       "      <td>1.0</td>\n",
       "      <td>1.0</td>\n",
       "    </tr>\n",
       "    <tr>\n",
       "      <th>1048571</th>\n",
       "      <td>0</td>\n",
       "      <td>0</td>\n",
       "      <td>0</td>\n",
       "      <td>0</td>\n",
       "      <td>0</td>\n",
       "      <td>1.0</td>\n",
       "      <td>1.0</td>\n",
       "      <td>1.0</td>\n",
       "      <td>1.0</td>\n",
       "    </tr>\n",
       "    <tr>\n",
       "      <th>1048572</th>\n",
       "      <td>0</td>\n",
       "      <td>0</td>\n",
       "      <td>0</td>\n",
       "      <td>0</td>\n",
       "      <td>1</td>\n",
       "      <td>0.0</td>\n",
       "      <td>1.0</td>\n",
       "      <td>1.0</td>\n",
       "      <td>1.0</td>\n",
       "    </tr>\n",
       "    <tr>\n",
       "      <th>1048573</th>\n",
       "      <td>0</td>\n",
       "      <td>0</td>\n",
       "      <td>0</td>\n",
       "      <td>0</td>\n",
       "      <td>1</td>\n",
       "      <td>0.0</td>\n",
       "      <td>1.0</td>\n",
       "      <td>1.0</td>\n",
       "      <td>1.0</td>\n",
       "    </tr>\n",
       "    <tr>\n",
       "      <th>1048574</th>\n",
       "      <td>0</td>\n",
       "      <td>0</td>\n",
       "      <td>0</td>\n",
       "      <td>0</td>\n",
       "      <td>0</td>\n",
       "      <td>0.0</td>\n",
       "      <td>0.0</td>\n",
       "      <td>1.0</td>\n",
       "      <td>1.0</td>\n",
       "    </tr>\n",
       "  </tbody>\n",
       "</table>\n",
       "<p>1048575 rows × 9 columns</p>\n",
       "</div>"
      ],
      "text/plain": [
       "         cough  fever  sore_throat  shortness_of_breath  head_ache  \\\n",
       "0            0      0            0                    0          0   \n",
       "1            0      1            0                    0          0   \n",
       "2            0      0            0                    0          0   \n",
       "3            0      0            0                    0          0   \n",
       "4            0      1            0                    0          0   \n",
       "...        ...    ...          ...                  ...        ...   \n",
       "1048570      1      1            0                    0          1   \n",
       "1048571      0      0            0                    0          0   \n",
       "1048572      0      0            0                    0          1   \n",
       "1048573      0      0            0                    0          1   \n",
       "1048574      0      0            0                    0          0   \n",
       "\n",
       "         age_above_60  gender  test_indication  target  \n",
       "0                 0.0     1.0              1.0     0.0  \n",
       "1                 0.0     1.0              1.0     0.0  \n",
       "2                 1.0     0.0              1.0     0.0  \n",
       "3                 0.0     1.0              1.0     0.0  \n",
       "4                 0.0     1.0              1.0     0.0  \n",
       "...               ...     ...              ...     ...  \n",
       "1048570           1.0     0.0              1.0     1.0  \n",
       "1048571           1.0     1.0              1.0     1.0  \n",
       "1048572           0.0     1.0              1.0     1.0  \n",
       "1048573           0.0     1.0              1.0     1.0  \n",
       "1048574           0.0     0.0              1.0     1.0  \n",
       "\n",
       "[1048575 rows x 9 columns]"
      ]
     },
     "execution_count": 120,
     "metadata": {},
     "output_type": "execute_result"
    }
   ],
   "source": [
    "codata"
   ]
  },
  {
   "cell_type": "code",
   "execution_count": 121,
   "id": "3aae3b51",
   "metadata": {},
   "outputs": [
    {
     "data": {
      "text/plain": [
       "(1048575, 9)"
      ]
     },
     "execution_count": 121,
     "metadata": {},
     "output_type": "execute_result"
    }
   ],
   "source": [
    "codata.shape"
   ]
  },
  {
   "cell_type": "code",
   "execution_count": 122,
   "id": "8d71372e",
   "metadata": {
    "scrolled": false
   },
   "outputs": [
    {
     "data": {
      "text/plain": [
       "0          0.0\n",
       "1          0.0\n",
       "2          0.0\n",
       "3          0.0\n",
       "4          0.0\n",
       "          ... \n",
       "1048570    1.0\n",
       "1048571    1.0\n",
       "1048572    1.0\n",
       "1048573    1.0\n",
       "1048574    1.0\n",
       "Name: target, Length: 1048575, dtype: float64"
      ]
     },
     "execution_count": 122,
     "metadata": {},
     "output_type": "execute_result"
    }
   ],
   "source": [
    "codata['target']"
   ]
  },
  {
   "cell_type": "code",
   "execution_count": 123,
   "id": "aa481b31",
   "metadata": {},
   "outputs": [
    {
     "name": "stdout",
     "output_type": "stream",
     "text": [
      "cough                  0.0\n",
      "fever                  0.0\n",
      "sore_throat            0.0\n",
      "shortness_of_breath    0.0\n",
      "head_ache              0.0\n",
      "age_above_60           0.0\n",
      "gender                 0.0\n",
      "test_indication        1.0\n",
      "Name: 11, dtype: float64\n",
      "#\n",
      "0.0\n",
      "cough                  0.0\n",
      "fever                  0.0\n",
      "sore_throat            0.0\n",
      "shortness_of_breath    0.0\n",
      "head_ache              0.0\n",
      "age_above_60           0.0\n",
      "gender                 1.0\n",
      "test_indication        1.0\n",
      "Name: 350, dtype: float64 0.0\n",
      "cough                  0.0\n",
      "fever                  1.0\n",
      "sore_throat            0.0\n",
      "shortness_of_breath    0.0\n",
      "head_ache              0.0\n",
      "age_above_60           0.0\n",
      "gender                 1.0\n",
      "test_indication        1.0\n",
      "Name: 1, dtype: float64 0.0\n",
      "0.0 0.0\n"
     ]
    }
   ],
   "source": [
    "print(x.iloc[11])\n",
    "print(\"#\")\n",
    "print(y.iloc[11])\n",
    "\n",
    "print(x.iloc[350],y.iloc[350])\n",
    "\n",
    "print(x.iloc[1],y.iloc[1])\n",
    "\n",
    "print(y.iloc[399],y.iloc[399])"
   ]
  },
  {
   "cell_type": "code",
   "execution_count": 41,
   "id": "e44e69a4",
   "metadata": {},
   "outputs": [],
   "source": [
    "### preprocessing the data"
   ]
  },
  {
   "cell_type": "code",
   "execution_count": 42,
   "id": "66d35b57",
   "metadata": {},
   "outputs": [],
   "source": [
    "#standardisation of data or Rescaling the data"
   ]
  },
  {
   "cell_type": "code",
   "execution_count": 124,
   "id": "a871da85",
   "metadata": {},
   "outputs": [
    {
     "ename": "KeyError",
     "evalue": "11",
     "output_type": "error",
     "traceback": [
      "\u001b[1;31m---------------------------------------------------------------------------\u001b[0m",
      "\u001b[1;31mKeyError\u001b[0m                                  Traceback (most recent call last)",
      "\u001b[1;32m~\\anaconda3\\lib\\site-packages\\pandas\\core\\indexes\\base.py\u001b[0m in \u001b[0;36mget_loc\u001b[1;34m(self, key, method, tolerance)\u001b[0m\n\u001b[0;32m   3079\u001b[0m             \u001b[1;32mtry\u001b[0m\u001b[1;33m:\u001b[0m\u001b[1;33m\u001b[0m\u001b[1;33m\u001b[0m\u001b[0m\n\u001b[1;32m-> 3080\u001b[1;33m                 \u001b[1;32mreturn\u001b[0m \u001b[0mself\u001b[0m\u001b[1;33m.\u001b[0m\u001b[0m_engine\u001b[0m\u001b[1;33m.\u001b[0m\u001b[0mget_loc\u001b[0m\u001b[1;33m(\u001b[0m\u001b[0mcasted_key\u001b[0m\u001b[1;33m)\u001b[0m\u001b[1;33m\u001b[0m\u001b[1;33m\u001b[0m\u001b[0m\n\u001b[0m\u001b[0;32m   3081\u001b[0m             \u001b[1;32mexcept\u001b[0m \u001b[0mKeyError\u001b[0m \u001b[1;32mas\u001b[0m \u001b[0merr\u001b[0m\u001b[1;33m:\u001b[0m\u001b[1;33m\u001b[0m\u001b[1;33m\u001b[0m\u001b[0m\n",
      "\u001b[1;32mpandas\\_libs\\index.pyx\u001b[0m in \u001b[0;36mpandas._libs.index.IndexEngine.get_loc\u001b[1;34m()\u001b[0m\n",
      "\u001b[1;32mpandas\\_libs\\index.pyx\u001b[0m in \u001b[0;36mpandas._libs.index.IndexEngine.get_loc\u001b[1;34m()\u001b[0m\n",
      "\u001b[1;32mpandas\\_libs\\hashtable_class_helper.pxi\u001b[0m in \u001b[0;36mpandas._libs.hashtable.PyObjectHashTable.get_item\u001b[1;34m()\u001b[0m\n",
      "\u001b[1;32mpandas\\_libs\\hashtable_class_helper.pxi\u001b[0m in \u001b[0;36mpandas._libs.hashtable.PyObjectHashTable.get_item\u001b[1;34m()\u001b[0m\n",
      "\u001b[1;31mKeyError\u001b[0m: 11",
      "\nThe above exception was the direct cause of the following exception:\n",
      "\u001b[1;31mKeyError\u001b[0m                                  Traceback (most recent call last)",
      "\u001b[1;32m<ipython-input-124-a4496ae2bf2a>\u001b[0m in \u001b[0;36m<module>\u001b[1;34m\u001b[0m\n\u001b[1;32m----> 1\u001b[1;33m \u001b[0mprint\u001b[0m\u001b[1;33m(\u001b[0m\u001b[0mx\u001b[0m\u001b[1;33m[\u001b[0m\u001b[1;36m11\u001b[0m\u001b[1;33m]\u001b[0m\u001b[1;33m,\u001b[0m\u001b[0my\u001b[0m\u001b[1;33m[\u001b[0m\u001b[1;36m11\u001b[0m\u001b[1;33m]\u001b[0m\u001b[1;33m)\u001b[0m\u001b[1;33m\u001b[0m\u001b[1;33m\u001b[0m\u001b[0m\n\u001b[0m\u001b[0;32m      2\u001b[0m \u001b[1;33m\u001b[0m\u001b[0m\n\u001b[0;32m      3\u001b[0m \u001b[0mprint\u001b[0m\u001b[1;33m(\u001b[0m\u001b[0mx\u001b[0m\u001b[1;33m[\u001b[0m\u001b[1;36m350\u001b[0m\u001b[1;33m]\u001b[0m\u001b[1;33m,\u001b[0m\u001b[0my\u001b[0m\u001b[1;33m[\u001b[0m\u001b[1;36m350\u001b[0m\u001b[1;33m]\u001b[0m\u001b[1;33m)\u001b[0m\u001b[1;33m\u001b[0m\u001b[1;33m\u001b[0m\u001b[0m\n\u001b[0;32m      4\u001b[0m \u001b[1;33m\u001b[0m\u001b[0m\n\u001b[0;32m      5\u001b[0m \u001b[0mprint\u001b[0m\u001b[1;33m(\u001b[0m\u001b[0mx\u001b[0m\u001b[1;33m[\u001b[0m\u001b[1;36m1\u001b[0m\u001b[1;33m]\u001b[0m\u001b[1;33m,\u001b[0m\u001b[0my\u001b[0m\u001b[1;33m[\u001b[0m\u001b[1;36m1\u001b[0m\u001b[1;33m]\u001b[0m\u001b[1;33m)\u001b[0m\u001b[1;33m\u001b[0m\u001b[1;33m\u001b[0m\u001b[0m\n",
      "\u001b[1;32m~\\anaconda3\\lib\\site-packages\\pandas\\core\\frame.py\u001b[0m in \u001b[0;36m__getitem__\u001b[1;34m(self, key)\u001b[0m\n\u001b[0;32m   3022\u001b[0m             \u001b[1;32mif\u001b[0m \u001b[0mself\u001b[0m\u001b[1;33m.\u001b[0m\u001b[0mcolumns\u001b[0m\u001b[1;33m.\u001b[0m\u001b[0mnlevels\u001b[0m \u001b[1;33m>\u001b[0m \u001b[1;36m1\u001b[0m\u001b[1;33m:\u001b[0m\u001b[1;33m\u001b[0m\u001b[1;33m\u001b[0m\u001b[0m\n\u001b[0;32m   3023\u001b[0m                 \u001b[1;32mreturn\u001b[0m \u001b[0mself\u001b[0m\u001b[1;33m.\u001b[0m\u001b[0m_getitem_multilevel\u001b[0m\u001b[1;33m(\u001b[0m\u001b[0mkey\u001b[0m\u001b[1;33m)\u001b[0m\u001b[1;33m\u001b[0m\u001b[1;33m\u001b[0m\u001b[0m\n\u001b[1;32m-> 3024\u001b[1;33m             \u001b[0mindexer\u001b[0m \u001b[1;33m=\u001b[0m \u001b[0mself\u001b[0m\u001b[1;33m.\u001b[0m\u001b[0mcolumns\u001b[0m\u001b[1;33m.\u001b[0m\u001b[0mget_loc\u001b[0m\u001b[1;33m(\u001b[0m\u001b[0mkey\u001b[0m\u001b[1;33m)\u001b[0m\u001b[1;33m\u001b[0m\u001b[1;33m\u001b[0m\u001b[0m\n\u001b[0m\u001b[0;32m   3025\u001b[0m             \u001b[1;32mif\u001b[0m \u001b[0mis_integer\u001b[0m\u001b[1;33m(\u001b[0m\u001b[0mindexer\u001b[0m\u001b[1;33m)\u001b[0m\u001b[1;33m:\u001b[0m\u001b[1;33m\u001b[0m\u001b[1;33m\u001b[0m\u001b[0m\n\u001b[0;32m   3026\u001b[0m                 \u001b[0mindexer\u001b[0m \u001b[1;33m=\u001b[0m \u001b[1;33m[\u001b[0m\u001b[0mindexer\u001b[0m\u001b[1;33m]\u001b[0m\u001b[1;33m\u001b[0m\u001b[1;33m\u001b[0m\u001b[0m\n",
      "\u001b[1;32m~\\anaconda3\\lib\\site-packages\\pandas\\core\\indexes\\base.py\u001b[0m in \u001b[0;36mget_loc\u001b[1;34m(self, key, method, tolerance)\u001b[0m\n\u001b[0;32m   3080\u001b[0m                 \u001b[1;32mreturn\u001b[0m \u001b[0mself\u001b[0m\u001b[1;33m.\u001b[0m\u001b[0m_engine\u001b[0m\u001b[1;33m.\u001b[0m\u001b[0mget_loc\u001b[0m\u001b[1;33m(\u001b[0m\u001b[0mcasted_key\u001b[0m\u001b[1;33m)\u001b[0m\u001b[1;33m\u001b[0m\u001b[1;33m\u001b[0m\u001b[0m\n\u001b[0;32m   3081\u001b[0m             \u001b[1;32mexcept\u001b[0m \u001b[0mKeyError\u001b[0m \u001b[1;32mas\u001b[0m \u001b[0merr\u001b[0m\u001b[1;33m:\u001b[0m\u001b[1;33m\u001b[0m\u001b[1;33m\u001b[0m\u001b[0m\n\u001b[1;32m-> 3082\u001b[1;33m                 \u001b[1;32mraise\u001b[0m \u001b[0mKeyError\u001b[0m\u001b[1;33m(\u001b[0m\u001b[0mkey\u001b[0m\u001b[1;33m)\u001b[0m \u001b[1;32mfrom\u001b[0m \u001b[0merr\u001b[0m\u001b[1;33m\u001b[0m\u001b[1;33m\u001b[0m\u001b[0m\n\u001b[0m\u001b[0;32m   3083\u001b[0m \u001b[1;33m\u001b[0m\u001b[0m\n\u001b[0;32m   3084\u001b[0m         \u001b[1;32mif\u001b[0m \u001b[0mtolerance\u001b[0m \u001b[1;32mis\u001b[0m \u001b[1;32mnot\u001b[0m \u001b[1;32mNone\u001b[0m\u001b[1;33m:\u001b[0m\u001b[1;33m\u001b[0m\u001b[1;33m\u001b[0m\u001b[0m\n",
      "\u001b[1;31mKeyError\u001b[0m: 11"
     ]
    }
   ],
   "source": [
    "print(x[11],y[11])\n",
    "\n",
    "print(x[350],y[350])\n",
    "\n",
    "print(x[1],y[1])\n",
    "\n",
    "print(x[107854],y[107854])"
   ]
  },
  {
   "cell_type": "code",
   "execution_count": 48,
   "id": "ba69ac14",
   "metadata": {},
   "outputs": [
    {
     "name": "stdout",
     "output_type": "stream",
     "text": [
      "StandardScaler()\n",
      "[0.02696994 0.02735713 0.00909329 0.00275803 0.01908209 0.12618744\n",
      " 0.48495625 1.        ]\n",
      "[[-0.16648566 -0.16770984 -0.0957953  ... -0.38001342  1.03055406\n",
      "   0.        ]\n",
      " [-0.16648566  5.96267937 -0.0957953  ... -0.38001342  1.03055406\n",
      "   0.        ]\n",
      " [-0.16648566 -0.16770984 -0.0957953  ...  2.63148602 -0.97035181\n",
      "   0.        ]\n",
      " ...\n",
      " [-0.16648566 -0.16770984 -0.0957953  ... -0.38001342  1.03055406\n",
      "   0.        ]\n",
      " [-0.16648566 -0.16770984 -0.0957953  ... -0.38001342  1.03055406\n",
      "   0.        ]\n",
      " [-0.16648566 -0.16770984 -0.0957953  ... -0.38001342 -0.97035181\n",
      "   0.        ]]\n",
      "[[-0.16648566 -0.16770984 -0.0957953  ... -0.38001342  1.03055406\n",
      "   0.        ]\n",
      " [-0.16648566  5.96267937 -0.0957953  ... -0.38001342  1.03055406\n",
      "   0.        ]\n",
      " [-0.16648566 -0.16770984 -0.0957953  ...  2.63148602 -0.97035181\n",
      "   0.        ]\n",
      " ...\n",
      " [-0.16648566 -0.16770984 -0.0957953  ... -0.38001342  1.03055406\n",
      "   0.        ]\n",
      " [-0.16648566 -0.16770984 -0.0957953  ... -0.38001342  1.03055406\n",
      "   0.        ]\n",
      " [-0.16648566 -0.16770984 -0.0957953  ... -0.38001342 -0.97035181\n",
      "   0.        ]]\n"
     ]
    }
   ],
   "source": [
    "scaler = StandardScaler()\n",
    "print(scaler.fit(x))\n",
    "StandardScaler()\n",
    "print(scaler.mean_)\n",
    "print(scaler.transform(x))\n",
    "print(scaler.transform(x))"
   ]
  },
  {
   "cell_type": "code",
   "execution_count": 125,
   "id": "0e94b015",
   "metadata": {},
   "outputs": [
    {
     "name": "stdout",
     "output_type": "stream",
     "text": [
      "[[-0.16648566 -0.16770984 -0.0957953  ... -0.38001342  1.03055406\n",
      "   0.        ]\n",
      " [-0.16648566  5.96267937 -0.0957953  ... -0.38001342  1.03055406\n",
      "   0.        ]\n",
      " [-0.16648566 -0.16770984 -0.0957953  ...  2.63148602 -0.97035181\n",
      "   0.        ]\n",
      " ...\n",
      " [-0.16648566 -0.16770984 -0.0957953  ... -0.38001342  1.03055406\n",
      "   0.        ]\n",
      " [-0.16648566 -0.16770984 -0.0957953  ... -0.38001342  1.03055406\n",
      "   0.        ]\n",
      " [-0.16648566 -0.16770984 -0.0957953  ... -0.38001342 -0.97035181\n",
      "   0.        ]]\n"
     ]
    }
   ],
   "source": [
    "x = scaler.fit_transform(x)\n",
    "print(x)"
   ]
  },
  {
   "cell_type": "code",
   "execution_count": 29,
   "id": "f381e357",
   "metadata": {},
   "outputs": [],
   "source": [
    "# print('#')\n",
    "# print(sc.mean_)\n",
    "# print(sc.var_)\n",
    "# #dump(sc,'scalar_file.joblib')\n",
    "# #sclar=load('scalar_file.joblib')"
   ]
  },
  {
   "cell_type": "code",
   "execution_count": 126,
   "id": "1f4e748a",
   "metadata": {},
   "outputs": [
    {
     "name": "stdout",
     "output_type": "stream",
     "text": [
      "[-0.16648566 -0.16770984 -0.0957953  -0.05258951 -0.13947508 -0.38001342\n",
      " -0.97035181  0.        ] 0.0\n",
      "[-0.16648566 -0.16770984 -0.0957953  -0.05258951 -0.13947508 -0.38001342\n",
      "  1.03055406  0.        ] 0.0\n",
      "[-0.16648566  5.96267937 -0.0957953  -0.05258951 -0.13947508 -0.38001342\n",
      "  1.03055406  0.        ] 0.0\n",
      "[-0.16648566 -0.16770984 -0.0957953  -0.05258951 -0.13947508 -0.38001342\n",
      " -0.97035181  0.        ] 0.0\n"
     ]
    }
   ],
   "source": [
    "print(x[11],y[11])\n",
    "\n",
    "print(x[350],y[350])\n",
    "\n",
    "print(x[1],y[1])\n",
    "\n",
    "print(x[107854],y[107854])"
   ]
  },
  {
   "cell_type": "code",
   "execution_count": 127,
   "id": "e3e527a1",
   "metadata": {},
   "outputs": [],
   "source": [
    "from sklearn.datasets import make_classification\n",
    "from sklearn.model_selection import KFold\n",
    "from sklearn.model_selection import cross_val_score\n",
    "cv = KFold(n_splits=20, random_state=1, shuffle=True)"
   ]
  },
  {
   "cell_type": "code",
   "execution_count": 128,
   "id": "9adc8102",
   "metadata": {},
   "outputs": [],
   "source": [
    "X_train , X_test , y_train , y_test   = train_test_split(x,y,test_size = 0.3 , random_state=13)"
   ]
  },
  {
   "cell_type": "code",
   "execution_count": 129,
   "id": "292d89fe",
   "metadata": {},
   "outputs": [],
   "source": [
    "from imblearn.over_sampling import SMOTE"
   ]
  },
  {
   "cell_type": "code",
   "execution_count": null,
   "id": "5e951319",
   "metadata": {},
   "outputs": [],
   "source": [
    "# import library\n",
    "from imblearn.over_sampling import SMOTE\n",
    "\n",
    "smote = SMOTE()\n",
    "\n",
    " #fit predictor and target variable\n",
    "x_smote, y_smote = smote.fit_resample(X_train, y_train)\n",
    "\n",
    "print('Original dataset shape', Counter(y_train))\n",
    "print('Resample dataset shape', Counter(y_smote))\n"
   ]
  },
  {
   "cell_type": "code",
   "execution_count": null,
   "id": "ca2d9283",
   "metadata": {},
   "outputs": [],
   "source": [
    "lg = LogisticRegression(random_state = 12)\n",
    "lg.fit(X_train, y_train)\n",
    "\n",
    "#predicting the test result and also with input\n",
    "y_pred_lg = lg.predict(X_test)\n",
    "scores = cross_val_score(lg, x, y, scoring='accuracy', cv=cv, n_jobs=-1)\n",
    "from numpy import mean\n",
    "from numpy import std\n",
    "#print('Accuracy: %.3f (%.3f)' % (mean(scores), std(scores)))\n",
    "scores\n",
    "print('Accuracy: %.3f (%.3f)' % (mean(scores), std(scores)))"
   ]
  },
  {
   "cell_type": "code",
   "execution_count": 137,
   "id": "13ec1de0",
   "metadata": {},
   "outputs": [
    {
     "name": "stdout",
     "output_type": "stream",
     "text": [
      "train score - 0.9154293857509925\n",
      "test score - 0.9151484711020972\n"
     ]
    }
   ],
   "source": [
    "score_lg = accuracy_score(y_pred_lg,y_test)\n",
    "score_lg\n",
    "\n",
    "print(\"train score - \" + str(lg.score(X_train, y_train)))\n",
    "print(\"test score - \" + str(lg.score(X_test, y_test)))"
   ]
  },
  {
   "cell_type": "code",
   "execution_count": 57,
   "id": "9c6c4a33",
   "metadata": {},
   "outputs": [
    {
     "data": {
      "image/png": "[encoded data removed]",
      "text/plain": [
       "<Figure size 432x288 with 2 Axes>"
      ]
     },
     "metadata": {},
     "output_type": "display_data"
    }
   ],
   "source": [
    "from sklearn.metrics import confusion_matrix\n",
    "cm_lg = confusion_matrix(y_test,y_pred_lg)\n",
    "sns.set(font_scale=1.4) # for label size\n",
    "sns.heatmap(cm_lg, annot=True, annot_kws={\"size\": 16}) # font size\n",
    "\n",
    "plt.show()"
   ]
  },
  {
   "cell_type": "code",
   "execution_count": null,
   "id": "d5c4c5df",
   "metadata": {},
   "outputs": [],
   "source": [
    "model.predict(data)"
   ]
  },
  {
   "cell_type": "code",
   "execution_count": null,
   "id": "4c3f38a8",
   "metadata": {},
   "outputs": [],
   "source": []
  }
 ],
 "metadata": {
  "kernelspec": {
   "display_name": "Python 3",
   "language": "python",
   "name": "python3"
  },
  "language_info": {
   "codemirror_mode": {
    "name": "ipython",
    "version": 3
   },
   "file_extension": ".py",
   "mimetype": "text/x-python",
   "name": "python",
   "nbconvert_exporter": "python",
   "pygments_lexer": "ipython3",
   "version": "3.8.8"
  }
 },
 "nbformat": 4,
 "nbformat_minor": 5
}
